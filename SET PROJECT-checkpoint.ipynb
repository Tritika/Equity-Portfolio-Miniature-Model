{
 "cells": [
  {
   "cell_type": "code",
   "execution_count": 1,
   "id": "4cb2b147",
   "metadata": {
    "scrolled": true
   },
   "outputs": [],
   "source": [
    "import pandas as pd\n",
    "import numpy as np\n",
    "from pandas_datareader import data as pdr\n",
    "from datetime import datetime, timedelta\n",
    "\n",
    "import yfinance as yf\n",
    "yf.pdr_override() # <== that's all it takes 🙂\n",
    "import datetime"
   ]
  },
  {
   "cell_type": "markdown",
   "id": "fd4c46b2",
   "metadata": {},
   "source": [
    "### Downloading historical prices for 10 companies across 4 sectors"
   ]
  },
  {
   "cell_type": "code",
   "execution_count": 3,
   "id": "c26e74d7",
   "metadata": {},
   "outputs": [],
   "source": [
    "# Function to download data and calculate the average of quarters\n",
    "def histData(tickr,startyear,endyear):\n",
    "    j = []\n",
    "    k = []\n",
    "    opend=[]\n",
    "    highd=[]\n",
    "    lowd=[]\n",
    "    closed=[]\n",
    "    acd=[]\n",
    "    for i in range(4,14,3):\n",
    "        if i == 13:\n",
    "            j.append(i//10)\n",
    "            k.append(i%10)\n",
    "        else:\n",
    "                j.append(i)\n",
    "                k.append(i+2)\n",
    "    years = list(np.arange(startyear,endyear))\n",
    "    for z in years:\n",
    "        for (sm,em) in zip(j,k):\n",
    "            start = datetime.datetime(z,sm,1)\n",
    "            end = datetime.datetime(z, em, 30)\n",
    "            data = pdr.get_data_yahoo(tickr, start,end)\n",
    "            o=data['Open'].mean()\n",
    "            opend.append(o)\n",
    "            h=data['High'].mean()\n",
    "            highd.append(h)\n",
    "            l=data['Low'].mean()\n",
    "            lowd.append(l)\n",
    "            c=data['Close'].mean()\n",
    "            closed.append(c)\n",
    "            ac=data['Adj Close'].mean()\n",
    "            acd.append(ac)\n",
    "    df_mod = pd.concat([pd.DataFrame(opend),pd.DataFrame(highd),pd.DataFrame(lowd),pd.DataFrame(closed),pd.DataFrame(acd)],axis=1)\n",
    "    df_mod.columns=['Open','High','Low','Close','AdjClose']\n",
    "    df_new2 = df_mod.copy()\n",
    "    for i,j in zip(range(0,len(df_mod),4),range(0,len(df_mod)+1)):\n",
    "         df_new2['Open'] = df_new2['Open'].replace(df_new2['Open'][j],df_mod.Open[i:i+4].mean())\n",
    "         df_new2['High'] = df_new2['High'].replace(df_new2['High'][j],df_mod.High[i:i+4].mean())\n",
    "         df_new2['Low'] = df_new2['Low'].replace(df_new2['Low'][j],df_mod.Low[i:i+4].mean())\n",
    "         df_new2['Close'] = df_new2['Close'].replace(df_new2['Close'][j],df_mod.Close[i:i+4].mean())\n",
    "         df_new2['AdjClose'] = df_new2['AdjClose'].replace(df_new2['AdjClose'][j],df_mod.AdjClose[i:i+4].mean())\n",
    "#          year_range = list(range(startyear,endyear))\n",
    "#          df_new2.insert(0, 'Year', year_range)\n",
    "    return df_new2.drop(df_new2.index[int(len(df_new2)/4):int(len(df_new2))])"
   ]
  },
  {
   "cell_type": "code",
   "execution_count": 7,
   "id": "d1f55bdf",
   "metadata": {
    "scrolled": true
   },
   "outputs": [],
   "source": [
    "# # # Downloading the data for IT sector\n",
    "# histData('infy.ns',2002,2022).to_csv(r'C:\\Users\\triti\\OneDrive\\Documents\\SET PROJECT 2022-23\\IT Sector\\infy.csv', index = False)\n",
    "# # histData('wipro.ns',2002,2022).to_csv(r'C:\\Users\\triti\\OneDrive\\Documents\\SET PROJECT 2022-23\\IT Sector\\wipro.csv', index = False)\n",
    "# # histData('tcs.ns',2003,2022).to_csv(r'C:\\Users\\triti\\OneDrive\\Documents\\SET PROJECT 2022-23\\IT Sector\\tcs.csv', index = False)\n",
    "# # histData('hcltech.ns',2003,2022).to_csv(r'C:\\Users\\triti\\OneDrive\\Documents\\SET PROJECT 2022-23\\IT Sector\\hcltech.csv', index = False)\n",
    "# # histData('mphasis.ns',2003,2022).to_csv(r'C:\\Users\\triti\\OneDrive\\Documents\\SET PROJECT 2022-23\\IT Sector\\mphasis.csv', index = False)\n",
    "# # histData('lt.ns',2004,2022).to_csv(r'C:\\Users\\triti\\OneDrive\\Documents\\SET PROJECT 2022-23\\IT Sector\\lt.csv', index = False)\n",
    "# # histData('coforge.ns',2005,2022).to_csv(r'C:\\Users\\triti\\OneDrive\\Documents\\SET PROJECT 2022-23\\IT Sector\\coforge.csv', index = False)\n",
    "# # histData('techm.ns',2007,2022).to_csv(r'C:\\Users\\triti\\OneDrive\\Documents\\SET PROJECT 2022-23\\IT Sector\\techm.csv', index = False)\n",
    "# # histData('mindtree.ns',2007,2022).to_csv(r'C:\\Users\\triti\\OneDrive\\Documents\\SET PROJECT 2022-23\\IT Sector\\mindtree.csv', index = False)\n",
    "# # histData('ltts.ns',2017,2022).to_csv(r'C:\\Users\\triti\\OneDrive\\Documents\\SET PROJECT 2022-23\\IT Sector\\ltts.csv', index = False)"
   ]
  },
  {
   "cell_type": "code",
   "execution_count": 37,
   "id": "f018925c",
   "metadata": {
    "scrolled": true
   },
   "outputs": [],
   "source": [
    "# # Downloading the data for banking sector\n",
    "# histData('sbin.ns',2002,2022).to_csv(r'C:\\Users\\triti\\OneDrive\\Documents\\SET PROJECT 2022-23\\Banking Sector\\sbi.csv', index = False)\n",
    "# histData('indianb.ns',2007,2022).to_csv(r'C:\\Users\\triti\\OneDrive\\Documents\\SET PROJECT 2022-23\\Banking Sector\\indianb.csv', index = False)\n",
    "# histData('bankbaroda.ns',2006,2022).to_csv(r'C:\\Users\\triti\\OneDrive\\Documents\\SET PROJECT 2022-23\\Banking Sector\\bob.csv', index = False)\n",
    "# histData('hdfcbank.ns',2002,2022).to_csv(r'C:\\Users\\triti\\OneDrive\\Documents\\SET PROJECT 2022-23\\Banking Sector\\hdfc.csv', index = False)\n",
    "# histData('icicibank.ns',2003,2022).to_csv(r'C:\\Users\\triti\\OneDrive\\Documents\\SET PROJECT 2022-23\\Banking Sector\\icici.csv', index = False)\n",
    "# histData('kotakbank.ns',2002,2022).to_csv(r'C:\\Users\\triti\\OneDrive\\Documents\\SET PROJECT 2022-23\\Banking Sector\\kotak.csv', index = False)\n",
    "# histData('idfcfirstb.ns',2016,2022).to_csv(r'C:\\Users\\triti\\OneDrive\\Documents\\SET PROJECT 2022-23\\Banking Sector\\idfcfirst.csv', index = False)\n",
    "# histData('canbk.ns',2003,2022).to_csv(r'C:\\Users\\triti\\OneDrive\\Documents\\SET PROJECT 2022-23\\Banking Sector\\canbk.csv', index = False)"
   ]
  },
  {
   "cell_type": "code",
   "execution_count": 22,
   "id": "79e893d2",
   "metadata": {
    "scrolled": true
   },
   "outputs": [],
   "source": [
    "# # # Downloading the data for pharma sector\n",
    "# # histData('sunpharma.ns',2002,2022).to_csv(r'C:\\Users\\triti\\OneDrive\\Documents\\SET PROJECT 2022-23\\Pharma\\sunpharma.csv', index = False)\n",
    "# # histData('drreddy.ns',2002,2022).to_csv(r'C:\\Users\\triti\\OneDrive\\Documents\\SET PROJECT 2022-23\\Pharma\\drreddy.csv', index = False)\n",
    "# # histData('cipla.ns',2002,2022).to_csv(r'C:\\Users\\triti\\OneDrive\\Documents\\SET PROJECT 2022-23\\Pharma\\cipla.csv', index = False)\n",
    "# # histData('torntpharm.ns',2002,2022).to_csv(r'C:\\Users\\triti\\OneDrive\\Documents\\SET PROJECT 2022-23\\Pharma\\torrent.csv', index = False)\n",
    "# # histData('zyduslife.ns',2003,2022).to_csv(r'C:\\Users\\triti\\OneDrive\\Documents\\SET PROJECT 2022-23\\Pharma\\zyduslife.csv', index = False)\n",
    "# # histData('divislab.ns',2003,2022).to_csv(r'C:\\Users\\triti\\OneDrive\\Documents\\SET PROJECT 2022-23\\Pharma\\divis.csv', index = False)\n",
    "# # histData('biocon.ns',2005,2022).to_csv(r'C:\\Users\\triti\\OneDrive\\Documents\\SET PROJECT 2022-23\\Pharma\\biocon.csv', index = False)"
   ]
  },
  {
   "cell_type": "code",
   "execution_count": 8,
   "id": "3d412247",
   "metadata": {
    "scrolled": true
   },
   "outputs": [],
   "source": [
    "# # Downloading the data for fmcg sector\n",
    "# histData('hindunilvr.ns',2002,2022).to_csv(r'C:\\Users\\triti\\OneDrive\\Documents\\SET PROJECT 2022-23\\FMCG\\uni.csv', index = False)\n",
    "# histData('itc.ns',2002,2022).to_csv(r'C:\\Users\\triti\\OneDrive\\Documents\\SET PROJECT 2022-23\\FMCG\\itc.csv', index = False)\n",
    "# histData('marico.ns',2003,2022).to_csv(r'C:\\Users\\triti\\OneDrive\\Documents\\SET PROJECT 2022-23\\FMCG\\marico.csv', index = False)\n",
    "# histData('britannia.ns',2003,2022).to_csv(r'C:\\Users\\triti\\OneDrive\\Documents\\SET PROJECT 2022-23\\FMCG\\britannia.csv', index = False)\n",
    "# histData('dabur.ns',2003,2022).to_csv(r'C:\\Users\\triti\\OneDrive\\Documents\\SET PROJECT 2022-23\\FMCG\\dabur.csv', index = False)\n",
    "# histData('godrejcp.ns',2003,2022).to_csv(r'C:\\Users\\triti\\OneDrive\\Documents\\SET PROJECT 2022-23\\FMCG\\godrej.csv', index = False)"
   ]
  },
  {
   "cell_type": "markdown",
   "id": "710295ad",
   "metadata": {},
   "source": [
    "## Obtaining weights for investment amount per company"
   ]
  },
  {
   "cell_type": "code",
   "execution_count": 2,
   "id": "e2e80ef2",
   "metadata": {},
   "outputs": [],
   "source": [
    "# it = [infy, wipro, tcs, mphasis, coforge, hcltech, lt, ltts, techm, mindtree]\n",
    "# pharma = [sunpharma, drreddy, cipla, torrent, zyduslife, divislab, biocon]\n",
    "# fmcg = [unilvr,itc,marico,britannia,dabur,godrej]\n",
    "# banking = [sbi,indian,bob, hdfc, icici, kotak, idfc, canb]\n",
    "\n",
    "ticker_symbols={\n",
    "    'Infosys':'infy.ns',\n",
    "    'Wipro':'wipro.ns',\n",
    "    'TCS':'tcs.ns',\n",
    "    'Mphasis':'mphasis.ns',\n",
    "    'Coforge':'coforge.ns',\n",
    "    'HCL Tech': 'hcltech,ns',\n",
    "    'Larsen & Toubro':'lt.ns',\n",
    "    'L&T Technology Services': 'ltts.ns',\n",
    "    'Tech Mahindra':'techm.ns',\n",
    "    'Mindtree':'mindtree.ns',\n",
    "    'Sunpharma':'sunpharma.ns',\n",
    "    'Drreddy':'drreddy.ns',\n",
    "    'Cipla':'cipla.ns',\n",
    "    'Torrent':'torntpharm.ns',\n",
    "    'Zyduslife':'zyduslife.ns',\n",
    "    'Divis Lab':'divislab.ns',\n",
    "    'Biocon':'biocon.ns',\n",
    "    'Hindustan Unilever':'hindunilvr.ns',\n",
    "    'ITC':'itc.ns',\n",
    "    'Marico':'marico.ns',\n",
    "    'Britannia':'britannia.ns',\n",
    "    'Dabur':'dabur.ns',\n",
    "    'Godrej':'godrejcp.ns',\n",
    "    'SBI':'sbin.ns',\n",
    "    'Indian Bank':'indianb.ns',\n",
    "    'Bank of Baroda':'bankbaroda.ns',\n",
    "    'HDFC':'hdfcbank.ns',\n",
    "    'ICICI':'icicibank.ns',\n",
    "    'Kotak Mahindra':'kotakbank.ns',\n",
    "    'IDFC':'idfcfirstb.ns',\n",
    "    'Canara Bank':'canbk.ns'  \n",
    "}\n",
    "\n",
    "# ticks = [ticker_symbols['Infosys','Mindtree']]\n",
    "noc = ['SBI','Biocon','Tech Mahindra','Drreddy','Mphasis','HDFC']\n",
    "ticks = [ticker_symbols.get(key) for key in noc]\n",
    "ticks\n",
    "\n",
    "\n",
    "def getweeklydata():\n",
    "    cp = []\n",
    "    curr = datetime.datetime.today().date()\n",
    "    prev = (datetime.datetime.today() - datetime.timedelta(weeks = len(noc)-1))\n",
    "    for t in ticks:\n",
    "        stock_d = yf.download(t,prev,curr,interval = \"1wk\")\n",
    "        cp.append(stock_d['Close'])\n",
    "    weekly_data = pd.DataFrame(cp,index = ticks)\n",
    "#     weekly_data.columns = ['Week 1', 'Week 2']\n",
    "    return weekly_data"
   ]
  },
  {
   "cell_type": "code",
   "execution_count": null,
   "id": "e5134619",
   "metadata": {},
   "outputs": [],
   "source": []
  },
  {
   "cell_type": "code",
   "execution_count": 7,
   "id": "7ed9e857",
   "metadata": {},
   "outputs": [],
   "source": [
    "allStocks = list(ticker_symbols.keys())\n",
    "\n",
    "output =list(map([list(map(list, combinations(input, i))) for i in range(len(input) + 1)], []))"
   ]
  },
  {
   "cell_type": "code",
   "execution_count": 5,
   "id": "f3c5548b",
   "metadata": {},
   "outputs": [
    {
     "name": "stdout",
     "output_type": "stream",
     "text": [
      "[*********************100%***********************]  1 of 1 completed\n",
      "[*********************100%***********************]  1 of 1 completed\n",
      "[*********************100%***********************]  1 of 1 completed\n",
      "[*********************100%***********************]  1 of 1 completed\n",
      "[*********************100%***********************]  1 of 1 completed\n",
      "[*********************100%***********************]  1 of 1 completed\n"
     ]
    }
   ],
   "source": [
    "getweeklydata().to_csv(r'C:\\Users\\triti\\OneDrive\\Documents\\SET PROJECT 2022-23\\weekly_data.csv', index = False)"
   ]
  },
  {
   "cell_type": "code",
   "execution_count": 6,
   "id": "6f1939b7",
   "metadata": {},
   "outputs": [
    {
     "data": {
      "text/html": [
       "<div>\n",
       "<style scoped>\n",
       "    .dataframe tbody tr th:only-of-type {\n",
       "        vertical-align: middle;\n",
       "    }\n",
       "\n",
       "    .dataframe tbody tr th {\n",
       "        vertical-align: top;\n",
       "    }\n",
       "\n",
       "    .dataframe thead th {\n",
       "        text-align: right;\n",
       "    }\n",
       "</style>\n",
       "<table border=\"1\" class=\"dataframe\">\n",
       "  <thead>\n",
       "    <tr style=\"text-align: right;\">\n",
       "      <th></th>\n",
       "      <th>2022-10-03</th>\n",
       "      <th>2022-10-10</th>\n",
       "      <th>2022-10-17</th>\n",
       "      <th>2022-10-24</th>\n",
       "      <th>2022-10-31</th>\n",
       "      <th>2022-11-04</th>\n",
       "    </tr>\n",
       "  </thead>\n",
       "  <tbody>\n",
       "    <tr>\n",
       "      <th>0</th>\n",
       "      <td>530.200012</td>\n",
       "      <td>527.200012</td>\n",
       "      <td>560.849976</td>\n",
       "      <td>570.750000</td>\n",
       "      <td>593.950012</td>\n",
       "      <td>593.950012</td>\n",
       "    </tr>\n",
       "    <tr>\n",
       "      <th>1</th>\n",
       "      <td>282.850006</td>\n",
       "      <td>261.299988</td>\n",
       "      <td>268.799988</td>\n",
       "      <td>272.600006</td>\n",
       "      <td>274.000000</td>\n",
       "      <td>274.000000</td>\n",
       "    </tr>\n",
       "    <tr>\n",
       "      <th>2</th>\n",
       "      <td>1023.849976</td>\n",
       "      <td>1019.849976</td>\n",
       "      <td>1041.150024</td>\n",
       "      <td>1048.949951</td>\n",
       "      <td>1053.650024</td>\n",
       "      <td>1053.650024</td>\n",
       "    </tr>\n",
       "    <tr>\n",
       "      <th>3</th>\n",
       "      <td>4376.649902</td>\n",
       "      <td>4310.799805</td>\n",
       "      <td>4330.799805</td>\n",
       "      <td>4459.950195</td>\n",
       "      <td>4525.100098</td>\n",
       "      <td>4525.100098</td>\n",
       "    </tr>\n",
       "    <tr>\n",
       "      <th>4</th>\n",
       "      <td>2118.449951</td>\n",
       "      <td>2105.699951</td>\n",
       "      <td>2042.949951</td>\n",
       "      <td>1947.849976</td>\n",
       "      <td>1969.800049</td>\n",
       "      <td>1969.800049</td>\n",
       "    </tr>\n",
       "    <tr>\n",
       "      <th>5</th>\n",
       "      <td>1430.800049</td>\n",
       "      <td>1439.000000</td>\n",
       "      <td>1438.599976</td>\n",
       "      <td>1458.699951</td>\n",
       "      <td>1497.150024</td>\n",
       "      <td>1497.150024</td>\n",
       "    </tr>\n",
       "  </tbody>\n",
       "</table>\n",
       "</div>"
      ],
      "text/plain": [
       "    2022-10-03   2022-10-10   2022-10-17   2022-10-24   2022-10-31  \\\n",
       "0   530.200012   527.200012   560.849976   570.750000   593.950012   \n",
       "1   282.850006   261.299988   268.799988   272.600006   274.000000   \n",
       "2  1023.849976  1019.849976  1041.150024  1048.949951  1053.650024   \n",
       "3  4376.649902  4310.799805  4330.799805  4459.950195  4525.100098   \n",
       "4  2118.449951  2105.699951  2042.949951  1947.849976  1969.800049   \n",
       "5  1430.800049  1439.000000  1438.599976  1458.699951  1497.150024   \n",
       "\n",
       "    2022-11-04  \n",
       "0   593.950012  \n",
       "1   274.000000  \n",
       "2  1053.650024  \n",
       "3  4525.100098  \n",
       "4  1969.800049  \n",
       "5  1497.150024  "
      ]
     },
     "execution_count": 6,
     "metadata": {},
     "output_type": "execute_result"
    }
   ],
   "source": [
    "dataWeekly = pd.read_csv(r'C:\\Users\\triti\\OneDrive\\Documents\\SET PROJECT 2022-23\\weekly_data.csv')\n",
    "dataWeekly"
   ]
  },
  {
   "cell_type": "markdown",
   "id": "3ead4280",
   "metadata": {},
   "source": [
    "## Hungarian on Weekly Closing Prices"
   ]
  },
  {
   "cell_type": "code",
   "execution_count": 7,
   "id": "ed29ba17",
   "metadata": {},
   "outputs": [
    {
     "name": "stdout",
     "output_type": "stream",
     "text": [
      "Closing prices from last  6  weeks: \n",
      " [[ 530.20001221  527.20001221  560.84997559  570.75        593.95001221\n",
      "   593.95001221]\n",
      " [ 282.8500061   261.29998779  268.79998779  272.6000061   274.\n",
      "   274.        ]\n",
      " [1023.84997559 1019.84997559 1041.15002441 1048.94995117 1053.65002441\n",
      "  1053.65002441]\n",
      " [4376.64990234 4310.79980469 4330.79980469 4459.95019531 4525.10009766\n",
      "  4525.10009766]\n",
      " [2118.44995117 2105.69995117 2042.94995117 1947.84997559 1969.80004883\n",
      "  1969.80004883]\n",
      " [1430.80004883 1439.         1438.59997559 1458.69995117 1497.15002441\n",
      "  1497.15002441]]\n",
      "\n",
      "Assignments from Hungarian Method: \n",
      " [ 570.75        282.8500061  1041.15002441 4525.10009766 2105.69995117\n",
      " 1497.15002441] \n",
      "\n",
      "row_index:  0   col_index:  3   value:  570.75\n",
      "row_index:  1   col_index:  0   value:  282.8500061035156\n",
      "row_index:  2   col_index:  2   value:  1041.1500244140625\n",
      "row_index:  3   col_index:  5   value:  4525.10009765625\n",
      "row_index:  4   col_index:  1   value:  2105.699951171875\n",
      "row_index:  5   col_index:  4   value:  1497.1500244140625\n",
      "\n",
      " Total cost on account of assignments made:  10022.700103759766\n"
     ]
    }
   ],
   "source": [
    "# Assignments using Hungarian Method\n",
    "from scipy.optimize import linear_sum_assignment\n",
    "\n",
    "cprices = dataWeekly.to_numpy()\n",
    "\n",
    "row_ind, col_ind = linear_sum_assignment(cprices,True)\n",
    "\n",
    "print(\"Closing prices from last \", len(ticks),\" weeks: \\n\", cprices)\n",
    "# print(\"\\nCost Matrix: \\n\", cprices)\n",
    "print(\"\\nAssignments from Hungarian Method: \\n\", cprices[row_ind, col_ind], \"\\n\")\n",
    "for i in range(len(row_ind)):\n",
    "    print(\"row_index: \", row_ind[i], \"  col_index: \" ,col_ind[i], \"  value: \", cprices[i, col_ind[i]] )\n",
    "print(\"\\n Total cost on account of assignments made: \", cprices[row_ind, col_ind].sum())"
   ]
  },
  {
   "cell_type": "code",
   "execution_count": 8,
   "id": "df3081c6",
   "metadata": {},
   "outputs": [
    {
     "ename": "KeyboardInterrupt",
     "evalue": "",
     "output_type": "error",
     "traceback": [
      "\u001b[1;31m---------------------------------------------------------------------------\u001b[0m",
      "\u001b[1;31mKeyboardInterrupt\u001b[0m                         Traceback (most recent call last)",
      "\u001b[1;32m~\\AppData\\Local\\Temp/ipykernel_10152/283406168.py\u001b[0m in \u001b[0;36m<module>\u001b[1;34m\u001b[0m\n\u001b[0;32m      3\u001b[0m \u001b[1;32mfor\u001b[0m \u001b[0mt\u001b[0m \u001b[1;32min\u001b[0m \u001b[0mticks\u001b[0m\u001b[1;33m:\u001b[0m\u001b[1;33m\u001b[0m\u001b[1;33m\u001b[0m\u001b[0m\n\u001b[0;32m      4\u001b[0m     \u001b[0mstock\u001b[0m \u001b[1;33m=\u001b[0m \u001b[0myf\u001b[0m\u001b[1;33m.\u001b[0m\u001b[0mTicker\u001b[0m\u001b[1;33m(\u001b[0m\u001b[0mt\u001b[0m\u001b[1;33m)\u001b[0m\u001b[1;33m\u001b[0m\u001b[1;33m\u001b[0m\u001b[0m\n\u001b[1;32m----> 5\u001b[1;33m     \u001b[0mprice\u001b[0m \u001b[1;33m=\u001b[0m \u001b[0mstock\u001b[0m\u001b[1;33m.\u001b[0m\u001b[0minfo\u001b[0m\u001b[1;33m[\u001b[0m\u001b[1;34m'regularMarketPrice'\u001b[0m\u001b[1;33m]\u001b[0m\u001b[1;33m\u001b[0m\u001b[1;33m\u001b[0m\u001b[0m\n\u001b[0m\u001b[0;32m      6\u001b[0m \u001b[1;33m\u001b[0m\u001b[0m\n\u001b[0;32m      7\u001b[0m     \u001b[0mcsp\u001b[0m\u001b[1;33m.\u001b[0m\u001b[0mappend\u001b[0m\u001b[1;33m(\u001b[0m\u001b[0mprice\u001b[0m\u001b[1;33m)\u001b[0m\u001b[1;33m\u001b[0m\u001b[1;33m\u001b[0m\u001b[0m\n",
      "\u001b[1;32mC:\\ProgramData\\Anaconda3\\lib\\site-packages\\yfinance\\ticker.py\u001b[0m in \u001b[0;36minfo\u001b[1;34m(self)\u001b[0m\n\u001b[0;32m    145\u001b[0m     \u001b[1;33m@\u001b[0m\u001b[0mproperty\u001b[0m\u001b[1;33m\u001b[0m\u001b[1;33m\u001b[0m\u001b[0m\n\u001b[0;32m    146\u001b[0m     \u001b[1;32mdef\u001b[0m \u001b[0minfo\u001b[0m\u001b[1;33m(\u001b[0m\u001b[0mself\u001b[0m\u001b[1;33m)\u001b[0m\u001b[1;33m:\u001b[0m\u001b[1;33m\u001b[0m\u001b[1;33m\u001b[0m\u001b[0m\n\u001b[1;32m--> 147\u001b[1;33m         \u001b[1;32mreturn\u001b[0m \u001b[0mself\u001b[0m\u001b[1;33m.\u001b[0m\u001b[0mget_info\u001b[0m\u001b[1;33m(\u001b[0m\u001b[1;33m)\u001b[0m\u001b[1;33m\u001b[0m\u001b[1;33m\u001b[0m\u001b[0m\n\u001b[0m\u001b[0;32m    148\u001b[0m \u001b[1;33m\u001b[0m\u001b[0m\n\u001b[0;32m    149\u001b[0m     \u001b[1;33m@\u001b[0m\u001b[0mproperty\u001b[0m\u001b[1;33m\u001b[0m\u001b[1;33m\u001b[0m\u001b[0m\n",
      "\u001b[1;32mC:\\ProgramData\\Anaconda3\\lib\\site-packages\\yfinance\\base.py\u001b[0m in \u001b[0;36mget_info\u001b[1;34m(self, proxy, as_dict, *args, **kwargs)\u001b[0m\n\u001b[0;32m    659\u001b[0m \u001b[1;33m\u001b[0m\u001b[0m\n\u001b[0;32m    660\u001b[0m     \u001b[1;32mdef\u001b[0m \u001b[0mget_info\u001b[0m\u001b[1;33m(\u001b[0m\u001b[0mself\u001b[0m\u001b[1;33m,\u001b[0m \u001b[0mproxy\u001b[0m\u001b[1;33m=\u001b[0m\u001b[1;32mNone\u001b[0m\u001b[1;33m,\u001b[0m \u001b[0mas_dict\u001b[0m\u001b[1;33m=\u001b[0m\u001b[1;32mFalse\u001b[0m\u001b[1;33m,\u001b[0m \u001b[1;33m*\u001b[0m\u001b[0margs\u001b[0m\u001b[1;33m,\u001b[0m \u001b[1;33m**\u001b[0m\u001b[0mkwargs\u001b[0m\u001b[1;33m)\u001b[0m\u001b[1;33m:\u001b[0m\u001b[1;33m\u001b[0m\u001b[1;33m\u001b[0m\u001b[0m\n\u001b[1;32m--> 661\u001b[1;33m         \u001b[0mself\u001b[0m\u001b[1;33m.\u001b[0m\u001b[0m_get_fundamentals\u001b[0m\u001b[1;33m(\u001b[0m\u001b[0mproxy\u001b[0m\u001b[1;33m=\u001b[0m\u001b[0mproxy\u001b[0m\u001b[1;33m)\u001b[0m\u001b[1;33m\u001b[0m\u001b[1;33m\u001b[0m\u001b[0m\n\u001b[0m\u001b[0;32m    662\u001b[0m         \u001b[0mdata\u001b[0m \u001b[1;33m=\u001b[0m \u001b[0mself\u001b[0m\u001b[1;33m.\u001b[0m\u001b[0m_info\u001b[0m\u001b[1;33m\u001b[0m\u001b[1;33m\u001b[0m\u001b[0m\n\u001b[0;32m    663\u001b[0m         \u001b[1;32mif\u001b[0m \u001b[0mas_dict\u001b[0m\u001b[1;33m:\u001b[0m\u001b[1;33m\u001b[0m\u001b[1;33m\u001b[0m\u001b[0m\n",
      "\u001b[1;32mC:\\ProgramData\\Anaconda3\\lib\\site-packages\\yfinance\\base.py\u001b[0m in \u001b[0;36m_get_fundamentals\u001b[1;34m(self, proxy)\u001b[0m\n\u001b[0;32m    494\u001b[0m \u001b[1;33m\u001b[0m\u001b[0m\n\u001b[0;32m    495\u001b[0m         \u001b[1;31m# get fundamentals\u001b[0m\u001b[1;33m\u001b[0m\u001b[1;33m\u001b[0m\u001b[0m\n\u001b[1;32m--> 496\u001b[1;33m         \u001b[0mdata\u001b[0m \u001b[1;33m=\u001b[0m \u001b[0mutils\u001b[0m\u001b[1;33m.\u001b[0m\u001b[0mget_json\u001b[0m\u001b[1;33m(\u001b[0m\u001b[0mticker_url\u001b[0m \u001b[1;33m+\u001b[0m \u001b[1;34m'/financials'\u001b[0m\u001b[1;33m,\u001b[0m \u001b[0mproxy\u001b[0m\u001b[1;33m,\u001b[0m \u001b[0mself\u001b[0m\u001b[1;33m.\u001b[0m\u001b[0msession\u001b[0m\u001b[1;33m)\u001b[0m\u001b[1;33m\u001b[0m\u001b[1;33m\u001b[0m\u001b[0m\n\u001b[0m\u001b[0;32m    497\u001b[0m \u001b[1;33m\u001b[0m\u001b[0m\n\u001b[0;32m    498\u001b[0m         \u001b[1;31m# generic patterns\u001b[0m\u001b[1;33m\u001b[0m\u001b[1;33m\u001b[0m\u001b[0m\n",
      "\u001b[1;32mC:\\ProgramData\\Anaconda3\\lib\\site-packages\\yfinance\\utils.py\u001b[0m in \u001b[0;36mget_json\u001b[1;34m(url, proxy, session)\u001b[0m\n\u001b[0;32m    105\u001b[0m \u001b[1;32mdef\u001b[0m \u001b[0mget_json\u001b[0m\u001b[1;33m(\u001b[0m\u001b[0murl\u001b[0m\u001b[1;33m,\u001b[0m \u001b[0mproxy\u001b[0m\u001b[1;33m=\u001b[0m\u001b[1;32mNone\u001b[0m\u001b[1;33m,\u001b[0m \u001b[0msession\u001b[0m\u001b[1;33m=\u001b[0m\u001b[1;32mNone\u001b[0m\u001b[1;33m)\u001b[0m\u001b[1;33m:\u001b[0m\u001b[1;33m\u001b[0m\u001b[1;33m\u001b[0m\u001b[0m\n\u001b[0;32m    106\u001b[0m     \u001b[0msession\u001b[0m \u001b[1;33m=\u001b[0m \u001b[0msession\u001b[0m \u001b[1;32mor\u001b[0m \u001b[0m_requests\u001b[0m\u001b[1;33m\u001b[0m\u001b[1;33m\u001b[0m\u001b[0m\n\u001b[1;32m--> 107\u001b[1;33m     \u001b[0mhtml\u001b[0m \u001b[1;33m=\u001b[0m \u001b[0msession\u001b[0m\u001b[1;33m.\u001b[0m\u001b[0mget\u001b[0m\u001b[1;33m(\u001b[0m\u001b[0murl\u001b[0m\u001b[1;33m=\u001b[0m\u001b[0murl\u001b[0m\u001b[1;33m,\u001b[0m \u001b[0mproxies\u001b[0m\u001b[1;33m=\u001b[0m\u001b[0mproxy\u001b[0m\u001b[1;33m,\u001b[0m \u001b[0mheaders\u001b[0m\u001b[1;33m=\u001b[0m\u001b[0muser_agent_headers\u001b[0m\u001b[1;33m)\u001b[0m\u001b[1;33m.\u001b[0m\u001b[0mtext\u001b[0m\u001b[1;33m\u001b[0m\u001b[1;33m\u001b[0m\u001b[0m\n\u001b[0m\u001b[0;32m    108\u001b[0m \u001b[1;33m\u001b[0m\u001b[0m\n\u001b[0;32m    109\u001b[0m     \u001b[1;32mif\u001b[0m \u001b[1;34m\"QuoteSummaryStore\"\u001b[0m \u001b[1;32mnot\u001b[0m \u001b[1;32min\u001b[0m \u001b[0mhtml\u001b[0m\u001b[1;33m:\u001b[0m\u001b[1;33m\u001b[0m\u001b[1;33m\u001b[0m\u001b[0m\n",
      "\u001b[1;32mC:\\ProgramData\\Anaconda3\\lib\\site-packages\\requests\\api.py\u001b[0m in \u001b[0;36mget\u001b[1;34m(url, params, **kwargs)\u001b[0m\n\u001b[0;32m     73\u001b[0m     \"\"\"\n\u001b[0;32m     74\u001b[0m \u001b[1;33m\u001b[0m\u001b[0m\n\u001b[1;32m---> 75\u001b[1;33m     \u001b[1;32mreturn\u001b[0m \u001b[0mrequest\u001b[0m\u001b[1;33m(\u001b[0m\u001b[1;34m'get'\u001b[0m\u001b[1;33m,\u001b[0m \u001b[0murl\u001b[0m\u001b[1;33m,\u001b[0m \u001b[0mparams\u001b[0m\u001b[1;33m=\u001b[0m\u001b[0mparams\u001b[0m\u001b[1;33m,\u001b[0m \u001b[1;33m**\u001b[0m\u001b[0mkwargs\u001b[0m\u001b[1;33m)\u001b[0m\u001b[1;33m\u001b[0m\u001b[1;33m\u001b[0m\u001b[0m\n\u001b[0m\u001b[0;32m     76\u001b[0m \u001b[1;33m\u001b[0m\u001b[0m\n\u001b[0;32m     77\u001b[0m \u001b[1;33m\u001b[0m\u001b[0m\n",
      "\u001b[1;32mC:\\ProgramData\\Anaconda3\\lib\\site-packages\\requests\\api.py\u001b[0m in \u001b[0;36mrequest\u001b[1;34m(method, url, **kwargs)\u001b[0m\n\u001b[0;32m     59\u001b[0m     \u001b[1;31m# cases, and look like a memory leak in others.\u001b[0m\u001b[1;33m\u001b[0m\u001b[1;33m\u001b[0m\u001b[0m\n\u001b[0;32m     60\u001b[0m     \u001b[1;32mwith\u001b[0m \u001b[0msessions\u001b[0m\u001b[1;33m.\u001b[0m\u001b[0mSession\u001b[0m\u001b[1;33m(\u001b[0m\u001b[1;33m)\u001b[0m \u001b[1;32mas\u001b[0m \u001b[0msession\u001b[0m\u001b[1;33m:\u001b[0m\u001b[1;33m\u001b[0m\u001b[1;33m\u001b[0m\u001b[0m\n\u001b[1;32m---> 61\u001b[1;33m         \u001b[1;32mreturn\u001b[0m \u001b[0msession\u001b[0m\u001b[1;33m.\u001b[0m\u001b[0mrequest\u001b[0m\u001b[1;33m(\u001b[0m\u001b[0mmethod\u001b[0m\u001b[1;33m=\u001b[0m\u001b[0mmethod\u001b[0m\u001b[1;33m,\u001b[0m \u001b[0murl\u001b[0m\u001b[1;33m=\u001b[0m\u001b[0murl\u001b[0m\u001b[1;33m,\u001b[0m \u001b[1;33m**\u001b[0m\u001b[0mkwargs\u001b[0m\u001b[1;33m)\u001b[0m\u001b[1;33m\u001b[0m\u001b[1;33m\u001b[0m\u001b[0m\n\u001b[0m\u001b[0;32m     62\u001b[0m \u001b[1;33m\u001b[0m\u001b[0m\n\u001b[0;32m     63\u001b[0m \u001b[1;33m\u001b[0m\u001b[0m\n",
      "\u001b[1;32mC:\\ProgramData\\Anaconda3\\lib\\site-packages\\requests\\sessions.py\u001b[0m in \u001b[0;36mrequest\u001b[1;34m(self, method, url, params, data, headers, cookies, files, auth, timeout, allow_redirects, proxies, hooks, stream, verify, cert, json)\u001b[0m\n\u001b[0;32m    540\u001b[0m         }\n\u001b[0;32m    541\u001b[0m         \u001b[0msend_kwargs\u001b[0m\u001b[1;33m.\u001b[0m\u001b[0mupdate\u001b[0m\u001b[1;33m(\u001b[0m\u001b[0msettings\u001b[0m\u001b[1;33m)\u001b[0m\u001b[1;33m\u001b[0m\u001b[1;33m\u001b[0m\u001b[0m\n\u001b[1;32m--> 542\u001b[1;33m         \u001b[0mresp\u001b[0m \u001b[1;33m=\u001b[0m \u001b[0mself\u001b[0m\u001b[1;33m.\u001b[0m\u001b[0msend\u001b[0m\u001b[1;33m(\u001b[0m\u001b[0mprep\u001b[0m\u001b[1;33m,\u001b[0m \u001b[1;33m**\u001b[0m\u001b[0msend_kwargs\u001b[0m\u001b[1;33m)\u001b[0m\u001b[1;33m\u001b[0m\u001b[1;33m\u001b[0m\u001b[0m\n\u001b[0m\u001b[0;32m    543\u001b[0m \u001b[1;33m\u001b[0m\u001b[0m\n\u001b[0;32m    544\u001b[0m         \u001b[1;32mreturn\u001b[0m \u001b[0mresp\u001b[0m\u001b[1;33m\u001b[0m\u001b[1;33m\u001b[0m\u001b[0m\n",
      "\u001b[1;32mC:\\ProgramData\\Anaconda3\\lib\\site-packages\\requests\\sessions.py\u001b[0m in \u001b[0;36msend\u001b[1;34m(self, request, **kwargs)\u001b[0m\n\u001b[0;32m    695\u001b[0m \u001b[1;33m\u001b[0m\u001b[0m\n\u001b[0;32m    696\u001b[0m         \u001b[1;32mif\u001b[0m \u001b[1;32mnot\u001b[0m \u001b[0mstream\u001b[0m\u001b[1;33m:\u001b[0m\u001b[1;33m\u001b[0m\u001b[1;33m\u001b[0m\u001b[0m\n\u001b[1;32m--> 697\u001b[1;33m             \u001b[0mr\u001b[0m\u001b[1;33m.\u001b[0m\u001b[0mcontent\u001b[0m\u001b[1;33m\u001b[0m\u001b[1;33m\u001b[0m\u001b[0m\n\u001b[0m\u001b[0;32m    698\u001b[0m \u001b[1;33m\u001b[0m\u001b[0m\n\u001b[0;32m    699\u001b[0m         \u001b[1;32mreturn\u001b[0m \u001b[0mr\u001b[0m\u001b[1;33m\u001b[0m\u001b[1;33m\u001b[0m\u001b[0m\n",
      "\u001b[1;32mC:\\ProgramData\\Anaconda3\\lib\\site-packages\\requests\\models.py\u001b[0m in \u001b[0;36mcontent\u001b[1;34m(self)\u001b[0m\n\u001b[0;32m    834\u001b[0m                 \u001b[0mself\u001b[0m\u001b[1;33m.\u001b[0m\u001b[0m_content\u001b[0m \u001b[1;33m=\u001b[0m \u001b[1;32mNone\u001b[0m\u001b[1;33m\u001b[0m\u001b[1;33m\u001b[0m\u001b[0m\n\u001b[0;32m    835\u001b[0m             \u001b[1;32melse\u001b[0m\u001b[1;33m:\u001b[0m\u001b[1;33m\u001b[0m\u001b[1;33m\u001b[0m\u001b[0m\n\u001b[1;32m--> 836\u001b[1;33m                 \u001b[0mself\u001b[0m\u001b[1;33m.\u001b[0m\u001b[0m_content\u001b[0m \u001b[1;33m=\u001b[0m \u001b[1;34mb''\u001b[0m\u001b[1;33m.\u001b[0m\u001b[0mjoin\u001b[0m\u001b[1;33m(\u001b[0m\u001b[0mself\u001b[0m\u001b[1;33m.\u001b[0m\u001b[0miter_content\u001b[0m\u001b[1;33m(\u001b[0m\u001b[0mCONTENT_CHUNK_SIZE\u001b[0m\u001b[1;33m)\u001b[0m\u001b[1;33m)\u001b[0m \u001b[1;32mor\u001b[0m \u001b[1;34mb''\u001b[0m\u001b[1;33m\u001b[0m\u001b[1;33m\u001b[0m\u001b[0m\n\u001b[0m\u001b[0;32m    837\u001b[0m \u001b[1;33m\u001b[0m\u001b[0m\n\u001b[0;32m    838\u001b[0m         \u001b[0mself\u001b[0m\u001b[1;33m.\u001b[0m\u001b[0m_content_consumed\u001b[0m \u001b[1;33m=\u001b[0m \u001b[1;32mTrue\u001b[0m\u001b[1;33m\u001b[0m\u001b[1;33m\u001b[0m\u001b[0m\n",
      "\u001b[1;32mC:\\ProgramData\\Anaconda3\\lib\\site-packages\\requests\\models.py\u001b[0m in \u001b[0;36mgenerate\u001b[1;34m()\u001b[0m\n\u001b[0;32m    756\u001b[0m             \u001b[1;32mif\u001b[0m \u001b[0mhasattr\u001b[0m\u001b[1;33m(\u001b[0m\u001b[0mself\u001b[0m\u001b[1;33m.\u001b[0m\u001b[0mraw\u001b[0m\u001b[1;33m,\u001b[0m \u001b[1;34m'stream'\u001b[0m\u001b[1;33m)\u001b[0m\u001b[1;33m:\u001b[0m\u001b[1;33m\u001b[0m\u001b[1;33m\u001b[0m\u001b[0m\n\u001b[0;32m    757\u001b[0m                 \u001b[1;32mtry\u001b[0m\u001b[1;33m:\u001b[0m\u001b[1;33m\u001b[0m\u001b[1;33m\u001b[0m\u001b[0m\n\u001b[1;32m--> 758\u001b[1;33m                     \u001b[1;32mfor\u001b[0m \u001b[0mchunk\u001b[0m \u001b[1;32min\u001b[0m \u001b[0mself\u001b[0m\u001b[1;33m.\u001b[0m\u001b[0mraw\u001b[0m\u001b[1;33m.\u001b[0m\u001b[0mstream\u001b[0m\u001b[1;33m(\u001b[0m\u001b[0mchunk_size\u001b[0m\u001b[1;33m,\u001b[0m \u001b[0mdecode_content\u001b[0m\u001b[1;33m=\u001b[0m\u001b[1;32mTrue\u001b[0m\u001b[1;33m)\u001b[0m\u001b[1;33m:\u001b[0m\u001b[1;33m\u001b[0m\u001b[1;33m\u001b[0m\u001b[0m\n\u001b[0m\u001b[0;32m    759\u001b[0m                         \u001b[1;32myield\u001b[0m \u001b[0mchunk\u001b[0m\u001b[1;33m\u001b[0m\u001b[1;33m\u001b[0m\u001b[0m\n\u001b[0;32m    760\u001b[0m                 \u001b[1;32mexcept\u001b[0m \u001b[0mProtocolError\u001b[0m \u001b[1;32mas\u001b[0m \u001b[0me\u001b[0m\u001b[1;33m:\u001b[0m\u001b[1;33m\u001b[0m\u001b[1;33m\u001b[0m\u001b[0m\n",
      "\u001b[1;32mC:\\ProgramData\\Anaconda3\\lib\\site-packages\\urllib3\\response.py\u001b[0m in \u001b[0;36mstream\u001b[1;34m(self, amt, decode_content)\u001b[0m\n\u001b[0;32m    570\u001b[0m         \"\"\"\n\u001b[0;32m    571\u001b[0m         \u001b[1;32mif\u001b[0m \u001b[0mself\u001b[0m\u001b[1;33m.\u001b[0m\u001b[0mchunked\u001b[0m \u001b[1;32mand\u001b[0m \u001b[0mself\u001b[0m\u001b[1;33m.\u001b[0m\u001b[0msupports_chunked_reads\u001b[0m\u001b[1;33m(\u001b[0m\u001b[1;33m)\u001b[0m\u001b[1;33m:\u001b[0m\u001b[1;33m\u001b[0m\u001b[1;33m\u001b[0m\u001b[0m\n\u001b[1;32m--> 572\u001b[1;33m             \u001b[1;32mfor\u001b[0m \u001b[0mline\u001b[0m \u001b[1;32min\u001b[0m \u001b[0mself\u001b[0m\u001b[1;33m.\u001b[0m\u001b[0mread_chunked\u001b[0m\u001b[1;33m(\u001b[0m\u001b[0mamt\u001b[0m\u001b[1;33m,\u001b[0m \u001b[0mdecode_content\u001b[0m\u001b[1;33m=\u001b[0m\u001b[0mdecode_content\u001b[0m\u001b[1;33m)\u001b[0m\u001b[1;33m:\u001b[0m\u001b[1;33m\u001b[0m\u001b[1;33m\u001b[0m\u001b[0m\n\u001b[0m\u001b[0;32m    573\u001b[0m                 \u001b[1;32myield\u001b[0m \u001b[0mline\u001b[0m\u001b[1;33m\u001b[0m\u001b[1;33m\u001b[0m\u001b[0m\n\u001b[0;32m    574\u001b[0m         \u001b[1;32melse\u001b[0m\u001b[1;33m:\u001b[0m\u001b[1;33m\u001b[0m\u001b[1;33m\u001b[0m\u001b[0m\n",
      "\u001b[1;32mC:\\ProgramData\\Anaconda3\\lib\\site-packages\\urllib3\\response.py\u001b[0m in \u001b[0;36mread_chunked\u001b[1;34m(self, amt, decode_content)\u001b[0m\n\u001b[0;32m    765\u001b[0m                 \u001b[1;32mif\u001b[0m \u001b[0mself\u001b[0m\u001b[1;33m.\u001b[0m\u001b[0mchunk_left\u001b[0m \u001b[1;33m==\u001b[0m \u001b[1;36m0\u001b[0m\u001b[1;33m:\u001b[0m\u001b[1;33m\u001b[0m\u001b[1;33m\u001b[0m\u001b[0m\n\u001b[0;32m    766\u001b[0m                     \u001b[1;32mbreak\u001b[0m\u001b[1;33m\u001b[0m\u001b[1;33m\u001b[0m\u001b[0m\n\u001b[1;32m--> 767\u001b[1;33m                 \u001b[0mchunk\u001b[0m \u001b[1;33m=\u001b[0m \u001b[0mself\u001b[0m\u001b[1;33m.\u001b[0m\u001b[0m_handle_chunk\u001b[0m\u001b[1;33m(\u001b[0m\u001b[0mamt\u001b[0m\u001b[1;33m)\u001b[0m\u001b[1;33m\u001b[0m\u001b[1;33m\u001b[0m\u001b[0m\n\u001b[0m\u001b[0;32m    768\u001b[0m                 decoded = self._decode(\n\u001b[0;32m    769\u001b[0m                     \u001b[0mchunk\u001b[0m\u001b[1;33m,\u001b[0m \u001b[0mdecode_content\u001b[0m\u001b[1;33m=\u001b[0m\u001b[0mdecode_content\u001b[0m\u001b[1;33m,\u001b[0m \u001b[0mflush_decoder\u001b[0m\u001b[1;33m=\u001b[0m\u001b[1;32mFalse\u001b[0m\u001b[1;33m\u001b[0m\u001b[1;33m\u001b[0m\u001b[0m\n",
      "\u001b[1;32mC:\\ProgramData\\Anaconda3\\lib\\site-packages\\urllib3\\response.py\u001b[0m in \u001b[0;36m_handle_chunk\u001b[1;34m(self, amt)\u001b[0m\n\u001b[0;32m    718\u001b[0m             \u001b[0mreturned_chunk\u001b[0m \u001b[1;33m=\u001b[0m \u001b[0mvalue\u001b[0m\u001b[1;33m\u001b[0m\u001b[1;33m\u001b[0m\u001b[0m\n\u001b[0;32m    719\u001b[0m         \u001b[1;32melse\u001b[0m\u001b[1;33m:\u001b[0m  \u001b[1;31m# amt > self.chunk_left\u001b[0m\u001b[1;33m\u001b[0m\u001b[1;33m\u001b[0m\u001b[0m\n\u001b[1;32m--> 720\u001b[1;33m             \u001b[0mreturned_chunk\u001b[0m \u001b[1;33m=\u001b[0m \u001b[0mself\u001b[0m\u001b[1;33m.\u001b[0m\u001b[0m_fp\u001b[0m\u001b[1;33m.\u001b[0m\u001b[0m_safe_read\u001b[0m\u001b[1;33m(\u001b[0m\u001b[0mself\u001b[0m\u001b[1;33m.\u001b[0m\u001b[0mchunk_left\u001b[0m\u001b[1;33m)\u001b[0m\u001b[1;33m\u001b[0m\u001b[1;33m\u001b[0m\u001b[0m\n\u001b[0m\u001b[0;32m    721\u001b[0m             \u001b[0mself\u001b[0m\u001b[1;33m.\u001b[0m\u001b[0m_fp\u001b[0m\u001b[1;33m.\u001b[0m\u001b[0m_safe_read\u001b[0m\u001b[1;33m(\u001b[0m\u001b[1;36m2\u001b[0m\u001b[1;33m)\u001b[0m  \u001b[1;31m# Toss the CRLF at the end of the chunk.\u001b[0m\u001b[1;33m\u001b[0m\u001b[1;33m\u001b[0m\u001b[0m\n\u001b[0;32m    722\u001b[0m             \u001b[0mself\u001b[0m\u001b[1;33m.\u001b[0m\u001b[0mchunk_left\u001b[0m \u001b[1;33m=\u001b[0m \u001b[1;32mNone\u001b[0m\u001b[1;33m\u001b[0m\u001b[1;33m\u001b[0m\u001b[0m\n",
      "\u001b[1;32mC:\\ProgramData\\Anaconda3\\lib\\http\\client.py\u001b[0m in \u001b[0;36m_safe_read\u001b[1;34m(self, amt)\u001b[0m\n\u001b[0;32m    623\u001b[0m         \u001b[0ms\u001b[0m \u001b[1;33m=\u001b[0m \u001b[1;33m[\u001b[0m\u001b[1;33m]\u001b[0m\u001b[1;33m\u001b[0m\u001b[1;33m\u001b[0m\u001b[0m\n\u001b[0;32m    624\u001b[0m         \u001b[1;32mwhile\u001b[0m \u001b[0mamt\u001b[0m \u001b[1;33m>\u001b[0m \u001b[1;36m0\u001b[0m\u001b[1;33m:\u001b[0m\u001b[1;33m\u001b[0m\u001b[1;33m\u001b[0m\u001b[0m\n\u001b[1;32m--> 625\u001b[1;33m             \u001b[0mchunk\u001b[0m \u001b[1;33m=\u001b[0m \u001b[0mself\u001b[0m\u001b[1;33m.\u001b[0m\u001b[0mfp\u001b[0m\u001b[1;33m.\u001b[0m\u001b[0mread\u001b[0m\u001b[1;33m(\u001b[0m\u001b[0mmin\u001b[0m\u001b[1;33m(\u001b[0m\u001b[0mamt\u001b[0m\u001b[1;33m,\u001b[0m \u001b[0mMAXAMOUNT\u001b[0m\u001b[1;33m)\u001b[0m\u001b[1;33m)\u001b[0m\u001b[1;33m\u001b[0m\u001b[1;33m\u001b[0m\u001b[0m\n\u001b[0m\u001b[0;32m    626\u001b[0m             \u001b[1;32mif\u001b[0m \u001b[1;32mnot\u001b[0m \u001b[0mchunk\u001b[0m\u001b[1;33m:\u001b[0m\u001b[1;33m\u001b[0m\u001b[1;33m\u001b[0m\u001b[0m\n\u001b[0;32m    627\u001b[0m                 \u001b[1;32mraise\u001b[0m \u001b[0mIncompleteRead\u001b[0m\u001b[1;33m(\u001b[0m\u001b[1;34mb''\u001b[0m\u001b[1;33m.\u001b[0m\u001b[0mjoin\u001b[0m\u001b[1;33m(\u001b[0m\u001b[0ms\u001b[0m\u001b[1;33m)\u001b[0m\u001b[1;33m,\u001b[0m \u001b[0mamt\u001b[0m\u001b[1;33m)\u001b[0m\u001b[1;33m\u001b[0m\u001b[1;33m\u001b[0m\u001b[0m\n",
      "\u001b[1;32mC:\\ProgramData\\Anaconda3\\lib\\socket.py\u001b[0m in \u001b[0;36mreadinto\u001b[1;34m(self, b)\u001b[0m\n\u001b[0;32m    702\u001b[0m         \u001b[1;32mwhile\u001b[0m \u001b[1;32mTrue\u001b[0m\u001b[1;33m:\u001b[0m\u001b[1;33m\u001b[0m\u001b[1;33m\u001b[0m\u001b[0m\n\u001b[0;32m    703\u001b[0m             \u001b[1;32mtry\u001b[0m\u001b[1;33m:\u001b[0m\u001b[1;33m\u001b[0m\u001b[1;33m\u001b[0m\u001b[0m\n\u001b[1;32m--> 704\u001b[1;33m                 \u001b[1;32mreturn\u001b[0m \u001b[0mself\u001b[0m\u001b[1;33m.\u001b[0m\u001b[0m_sock\u001b[0m\u001b[1;33m.\u001b[0m\u001b[0mrecv_into\u001b[0m\u001b[1;33m(\u001b[0m\u001b[0mb\u001b[0m\u001b[1;33m)\u001b[0m\u001b[1;33m\u001b[0m\u001b[1;33m\u001b[0m\u001b[0m\n\u001b[0m\u001b[0;32m    705\u001b[0m             \u001b[1;32mexcept\u001b[0m \u001b[0mtimeout\u001b[0m\u001b[1;33m:\u001b[0m\u001b[1;33m\u001b[0m\u001b[1;33m\u001b[0m\u001b[0m\n\u001b[0;32m    706\u001b[0m                 \u001b[0mself\u001b[0m\u001b[1;33m.\u001b[0m\u001b[0m_timeout_occurred\u001b[0m \u001b[1;33m=\u001b[0m \u001b[1;32mTrue\u001b[0m\u001b[1;33m\u001b[0m\u001b[1;33m\u001b[0m\u001b[0m\n",
      "\u001b[1;32mC:\\ProgramData\\Anaconda3\\lib\\ssl.py\u001b[0m in \u001b[0;36mrecv_into\u001b[1;34m(self, buffer, nbytes, flags)\u001b[0m\n\u001b[0;32m   1239\u001b[0m                   \u001b[1;34m\"non-zero flags not allowed in calls to recv_into() on %s\"\u001b[0m \u001b[1;33m%\u001b[0m\u001b[1;33m\u001b[0m\u001b[1;33m\u001b[0m\u001b[0m\n\u001b[0;32m   1240\u001b[0m                   self.__class__)\n\u001b[1;32m-> 1241\u001b[1;33m             \u001b[1;32mreturn\u001b[0m \u001b[0mself\u001b[0m\u001b[1;33m.\u001b[0m\u001b[0mread\u001b[0m\u001b[1;33m(\u001b[0m\u001b[0mnbytes\u001b[0m\u001b[1;33m,\u001b[0m \u001b[0mbuffer\u001b[0m\u001b[1;33m)\u001b[0m\u001b[1;33m\u001b[0m\u001b[1;33m\u001b[0m\u001b[0m\n\u001b[0m\u001b[0;32m   1242\u001b[0m         \u001b[1;32melse\u001b[0m\u001b[1;33m:\u001b[0m\u001b[1;33m\u001b[0m\u001b[1;33m\u001b[0m\u001b[0m\n\u001b[0;32m   1243\u001b[0m             \u001b[1;32mreturn\u001b[0m \u001b[0msuper\u001b[0m\u001b[1;33m(\u001b[0m\u001b[1;33m)\u001b[0m\u001b[1;33m.\u001b[0m\u001b[0mrecv_into\u001b[0m\u001b[1;33m(\u001b[0m\u001b[0mbuffer\u001b[0m\u001b[1;33m,\u001b[0m \u001b[0mnbytes\u001b[0m\u001b[1;33m,\u001b[0m \u001b[0mflags\u001b[0m\u001b[1;33m)\u001b[0m\u001b[1;33m\u001b[0m\u001b[1;33m\u001b[0m\u001b[0m\n",
      "\u001b[1;32mC:\\ProgramData\\Anaconda3\\lib\\ssl.py\u001b[0m in \u001b[0;36mread\u001b[1;34m(self, len, buffer)\u001b[0m\n\u001b[0;32m   1097\u001b[0m         \u001b[1;32mtry\u001b[0m\u001b[1;33m:\u001b[0m\u001b[1;33m\u001b[0m\u001b[1;33m\u001b[0m\u001b[0m\n\u001b[0;32m   1098\u001b[0m             \u001b[1;32mif\u001b[0m \u001b[0mbuffer\u001b[0m \u001b[1;32mis\u001b[0m \u001b[1;32mnot\u001b[0m \u001b[1;32mNone\u001b[0m\u001b[1;33m:\u001b[0m\u001b[1;33m\u001b[0m\u001b[1;33m\u001b[0m\u001b[0m\n\u001b[1;32m-> 1099\u001b[1;33m                 \u001b[1;32mreturn\u001b[0m \u001b[0mself\u001b[0m\u001b[1;33m.\u001b[0m\u001b[0m_sslobj\u001b[0m\u001b[1;33m.\u001b[0m\u001b[0mread\u001b[0m\u001b[1;33m(\u001b[0m\u001b[0mlen\u001b[0m\u001b[1;33m,\u001b[0m \u001b[0mbuffer\u001b[0m\u001b[1;33m)\u001b[0m\u001b[1;33m\u001b[0m\u001b[1;33m\u001b[0m\u001b[0m\n\u001b[0m\u001b[0;32m   1100\u001b[0m             \u001b[1;32melse\u001b[0m\u001b[1;33m:\u001b[0m\u001b[1;33m\u001b[0m\u001b[1;33m\u001b[0m\u001b[0m\n\u001b[0;32m   1101\u001b[0m                 \u001b[1;32mreturn\u001b[0m \u001b[0mself\u001b[0m\u001b[1;33m.\u001b[0m\u001b[0m_sslobj\u001b[0m\u001b[1;33m.\u001b[0m\u001b[0mread\u001b[0m\u001b[1;33m(\u001b[0m\u001b[0mlen\u001b[0m\u001b[1;33m)\u001b[0m\u001b[1;33m\u001b[0m\u001b[1;33m\u001b[0m\u001b[0m\n",
      "\u001b[1;31mKeyboardInterrupt\u001b[0m: "
     ]
    }
   ],
   "source": [
    "# Obtaining current stock prices\n",
    "csp = []\n",
    "for t in ticks:\n",
    "    stock = yf.Ticker(t)\n",
    "    price = stock.info['regularMarketPrice']\n",
    "    \n",
    "    csp.append(price)"
   ]
  },
  {
   "cell_type": "code",
   "execution_count": 67,
   "id": "18bb2450",
   "metadata": {},
   "outputs": [
    {
     "data": {
      "text/plain": [
       "[297.1, 353.6, 1666.9, 390.55, 3468.6, 57.15]"
      ]
     },
     "execution_count": 67,
     "metadata": {},
     "output_type": "execute_result"
    }
   ],
   "source": [
    "csp"
   ]
  },
  {
   "cell_type": "code",
   "execution_count": 9,
   "id": "9b263c16",
   "metadata": {},
   "outputs": [
    {
     "name": "stdout",
     "output_type": "stream",
     "text": [
      "Enter the principal amount100000\n"
     ]
    },
    {
     "data": {
      "text/html": [
       "<div>\n",
       "<style scoped>\n",
       "    .dataframe tbody tr th:only-of-type {\n",
       "        vertical-align: middle;\n",
       "    }\n",
       "\n",
       "    .dataframe tbody tr th {\n",
       "        vertical-align: top;\n",
       "    }\n",
       "\n",
       "    .dataframe thead th {\n",
       "        text-align: right;\n",
       "    }\n",
       "</style>\n",
       "<table border=\"1\" class=\"dataframe\">\n",
       "  <thead>\n",
       "    <tr style=\"text-align: right;\">\n",
       "      <th></th>\n",
       "      <th>Assignments</th>\n",
       "      <th>Weights</th>\n",
       "      <th>Investment Amount</th>\n",
       "    </tr>\n",
       "  </thead>\n",
       "  <tbody>\n",
       "    <tr>\n",
       "      <th>sbin.ns</th>\n",
       "      <td>570.750000</td>\n",
       "      <td>5.694573</td>\n",
       "      <td>5.694573e+05</td>\n",
       "    </tr>\n",
       "    <tr>\n",
       "      <th>biocon.ns</th>\n",
       "      <td>282.850006</td>\n",
       "      <td>2.822094</td>\n",
       "      <td>2.822094e+05</td>\n",
       "    </tr>\n",
       "    <tr>\n",
       "      <th>techm.ns</th>\n",
       "      <td>1041.150024</td>\n",
       "      <td>10.387920</td>\n",
       "      <td>1.038792e+06</td>\n",
       "    </tr>\n",
       "    <tr>\n",
       "      <th>drreddy.ns</th>\n",
       "      <td>4525.100098</td>\n",
       "      <td>45.148513</td>\n",
       "      <td>4.514851e+06</td>\n",
       "    </tr>\n",
       "    <tr>\n",
       "      <th>mphasis.ns</th>\n",
       "      <td>2105.699951</td>\n",
       "      <td>21.009308</td>\n",
       "      <td>2.100931e+06</td>\n",
       "    </tr>\n",
       "    <tr>\n",
       "      <th>hdfcbank.ns</th>\n",
       "      <td>1497.150024</td>\n",
       "      <td>14.937592</td>\n",
       "      <td>1.493759e+06</td>\n",
       "    </tr>\n",
       "  </tbody>\n",
       "</table>\n",
       "</div>"
      ],
      "text/plain": [
       "             Assignments    Weights  Investment Amount\n",
       "sbin.ns       570.750000   5.694573       5.694573e+05\n",
       "biocon.ns     282.850006   2.822094       2.822094e+05\n",
       "techm.ns     1041.150024  10.387920       1.038792e+06\n",
       "drreddy.ns   4525.100098  45.148513       4.514851e+06\n",
       "mphasis.ns   2105.699951  21.009308       2.100931e+06\n",
       "hdfcbank.ns  1497.150024  14.937592       1.493759e+06"
      ]
     },
     "execution_count": 9,
     "metadata": {},
     "output_type": "execute_result"
    }
   ],
   "source": [
    "principal_amount = int(input(\"Enter the principal amount\"))\n",
    "dfcp = pd.DataFrame(cprices[row_ind, col_ind], columns = ['Assignments'], index = ticks)\n",
    "# dfcp['Investment Amount'].iloc[-1] = dfcp['Investment Amount'].sum() - dfcp['Investment Amount'].iloc[:-1].sum()\n",
    "dfcp['Weights'] = (dfcp['Assignments']/cprices[row_ind, col_ind].sum())*100\n",
    "dfcp['Investment Amount'] = dfcp['Weights'] * principal_amount \n",
    "# dfcp['Current Stock Price'] = csp\n",
    "# dfcp['Units'] = dfcp['Investment Amount']/dfcp['Current Stock Price']\n",
    "dfcp"
   ]
  },
  {
   "cell_type": "code",
   "execution_count": 138,
   "id": "30358e6a",
   "metadata": {},
   "outputs": [
    {
     "name": "stdout",
     "output_type": "stream",
     "text": [
      "True\n"
     ]
    }
   ],
   "source": [
    "if (dfcp['Investment Amount'].sum() == (dfcp['Current Stock Price']*dfcp['Units']).sum()):\n",
    "    print(True)"
   ]
  },
  {
   "cell_type": "code",
   "execution_count": 145,
   "id": "f49de987",
   "metadata": {},
   "outputs": [
    {
     "data": {
      "text/plain": [
       "100.00000000000001"
      ]
     },
     "execution_count": 145,
     "metadata": {},
     "output_type": "execute_result"
    }
   ],
   "source": [
    "dfcp['Weights'].sum()"
   ]
  },
  {
   "cell_type": "markdown",
   "id": "aabd4535",
   "metadata": {},
   "source": [
    "#### Checking standard deviation for evaluation of volatility"
   ]
  },
  {
   "cell_type": "code",
   "execution_count": 146,
   "id": "3ad73f00",
   "metadata": {},
   "outputs": [
    {
     "data": {
      "text/plain": [
       "0     31.689916\n",
       "1      9.041108\n",
       "2     47.125953\n",
       "3     10.992523\n",
       "4    123.052096\n",
       "5      2.853025\n",
       "dtype: float64"
      ]
     },
     "execution_count": 146,
     "metadata": {},
     "output_type": "execute_result"
    }
   ],
   "source": [
    "dataWeekly.std(axis=1)"
   ]
  },
  {
   "cell_type": "markdown",
   "id": "4bde83d4",
   "metadata": {},
   "source": [
    "## Hungarian from scratch\n",
    "#### probably not needed yet"
   ]
  },
  {
   "cell_type": "code",
   "execution_count": 17,
   "id": "d5ef4e19",
   "metadata": {},
   "outputs": [],
   "source": [
    "# from typing import List, Tuple\n",
    "# import itertools\n",
    "# import numpy as np\n",
    "# from scipy.optimize import linear_sum_assignment\n",
    "\n",
    "\n",
    "# def linear_sum_assignment_brute_force(\n",
    "#         cost_matrix: np.ndarray,\n",
    "#         maximize: bool = False) -> Tuple[List[int], List[int]]:\n",
    "\n",
    "#     h = cost_matrix.shape[0]\n",
    "#     w = cost_matrix.shape[1]\n",
    "\n",
    "#     if maximize is True:\n",
    "#         cost_matrix = -cost_matrix\n",
    "\n",
    "#     minimum_cost = float(\"inf\")\n",
    "\n",
    "#     if h >= w:\n",
    "#         for i_idices in itertools.permutations(list(range(h)), min(h, w)):\n",
    "#             row_ind = i_idices\n",
    "#             col_ind = list(range(w))\n",
    "#             cost = cost_matrix[row_ind, col_ind].sum()\n",
    "#             if cost < minimum_cost:\n",
    "#                 minimum_cost = cost\n",
    "#                 optimal_row_ind = row_ind\n",
    "#                 optimal_col_ind = col_ind\n",
    "#     if h < w:\n",
    "#         for j_idices in itertools.permutations(list(range(w)), min(h, w)):\n",
    "#             row_ind = list(range(h))\n",
    "#             col_ind = j_idices\n",
    "#             cost = cost_matrix[row_ind, col_ind].sum()\n",
    "#             if cost < minimum_cost:\n",
    "#                 minimum_cost = cost\n",
    "#                 optimal_row_ind = row_ind\n",
    "#                 optimal_col_ind = col_ind\n",
    "\n",
    "#     return optimal_row_ind, optimal_col_ind\n",
    "\n",
    "\n",
    "# if __name__ == \"__main__\":\n",
    "\n",
    "#     cost_matrix = dataWeekly.to_numpy()\n",
    "#     max_value = np.max(cost_matrix)\n",
    "#     cost_matrix = max_value - cost_matrix\n",
    "\n",
    "# #     row_ind, col_ind = linear_sum_assignment_brute_force(\n",
    "# # #         cost_matrix=cost_matrix, maximize=True)\n",
    "\n",
    "# #     minimum_cost = cost_matrix[row_ind, col_ind].sum()\n",
    "\n",
    "# #     print(\n",
    "# #         f\"The optimal assignment from brute force algorithm is: {list(zip(row_ind, col_ind))}.\"\n",
    "# #     )\n",
    "# #     print(f\"The minimum cost from brute force algorithm is: {minimum_cost}.\")\n",
    "\n",
    "#     row_ind, col_ind = linear_sum_assignment(cost_matrix=cost_matrix,\n",
    "#                                              maximize=True)\n",
    "\n",
    "#     minimum_cost = cost_matrix[row_ind, col_ind].sum()\n",
    "\n",
    "#     print(\n",
    "#         f\"The optimal assignment from Hungarian algorithm is: {list(zip(row_ind, col_ind))}.\"\n",
    "#     )\n",
    "#     print(f\"The minimum cost from Hungarian algorithm is: {minimum_cost}.\")"
   ]
  },
  {
   "cell_type": "markdown",
   "id": "5806ba0e",
   "metadata": {},
   "source": [
    "### Displaying a Bipartite Graph of obtained data "
   ]
  },
  {
   "cell_type": "code",
   "execution_count": 182,
   "id": "6cf32970",
   "metadata": {},
   "outputs": [],
   "source": [
    "# import networkx as nx\n",
    "# B = nx.Graph()\n",
    "# B.add_edges_from(\n",
    "#     [(row['Week 1'], row['Week 2']) for idx, row in dataWeekly.iterrows()])\n",
    "# print(B)"
   ]
  },
  {
   "cell_type": "code",
   "execution_count": 181,
   "id": "a59648c8",
   "metadata": {},
   "outputs": [],
   "source": [
    "# import matplotlib.pyplot as plt\n",
    "\n",
    "# B = nx.Graph()\n",
    "# B.add_nodes_from(dataWeekly['Week 2'], bipartite=0)\n",
    "# B.add_nodes_from(dataWeekly['Week 1'], bipartite=1)\n",
    "# B.add_weighted_edges_from([(row['Week 1'], row['Week 2'], 1) for idx, row in dataWeekly.iterrows()])\n",
    "\n",
    "# print(B.edges(data=True))\n",
    "# # [('test1', 'example.org', {'weight': 1}), ('test3', 'example.org', {'weight': 1}), ('test2', 'example.org', {'weight': 1}), ('website.com', 'else', {'weight': 1}), ('site.com', 'something', {'weight': 1})]\n",
    "\n",
    "# pos = {node:[0, i] for i,node in enumerate(dataWeekly['Week 1'])}\n",
    "# pos.update({node:[1, i] for i,node in enumerate(dataWeekly['Week 2'])})\n",
    "# nx.draw(B, pos, with_labels=False)\n",
    "# for p in pos:  # raise text positions\n",
    "#     pos[p][1] += 0.25\n",
    "# nx.draw_networkx_labels(B, pos)\n",
    "\n",
    "# plt.show()"
   ]
  },
  {
   "cell_type": "code",
   "execution_count": null,
   "id": "be8d51a4",
   "metadata": {},
   "outputs": [],
   "source": []
  },
  {
   "cell_type": "code",
   "execution_count": null,
   "id": "4ff54964",
   "metadata": {},
   "outputs": [],
   "source": []
  }
 ],
 "metadata": {
  "kernelspec": {
   "display_name": "Python 3 (ipykernel)",
   "language": "python",
   "name": "python3"
  },
  "language_info": {
   "codemirror_mode": {
    "name": "ipython",
    "version": 3
   },
   "file_extension": ".py",
   "mimetype": "text/x-python",
   "name": "python",
   "nbconvert_exporter": "python",
   "pygments_lexer": "ipython3",
   "version": "3.9.7"
  }
 },
 "nbformat": 4,
 "nbformat_minor": 5
}
